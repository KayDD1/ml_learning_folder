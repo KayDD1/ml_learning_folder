{
 "cells": [
  {
   "cell_type": "markdown",
   "id": "2ba2c768",
   "metadata": {},
   "source": [
    "# Churn Prediction Project\n",
    "\n",
    "### Data Preparation:\n",
    "- Download Dataset, read it with pandas\n",
    "- Look at the data\n",
    "- Make column names and values look uniform\n",
    "- Check if the columns are read correctly\n",
    "- Check if the churn variable needs any preparation"
   ]
  },
  {
   "cell_type": "code",
   "execution_count": 1,
   "id": "3140e189",
   "metadata": {},
   "outputs": [],
   "source": [
    "import pandas as pd\n",
    "import numpy as np\n",
    "\n",
    "import matplotlib.pyplot as plt"
   ]
  },
  {
   "cell_type": "code",
   "execution_count": 2,
   "id": "44b2dde5",
   "metadata": {},
   "outputs": [],
   "source": [
    "filename = \"https://raw.githubusercontent.com/alexeygrigorev/mlbookcamp-code/master/chapter-03-churn-prediction/WA_Fn-UseC_-Telco-Customer-Churn.csv\""
   ]
  },
  {
   "cell_type": "code",
   "execution_count": 3,
   "id": "11fa8655",
   "metadata": {},
   "outputs": [
    {
     "name": "stdout",
     "output_type": "stream",
     "text": [
      "\r",
      "  0% [                                                                            ]      0 / 977501\r",
      "  0% [                                                                            ]   8192 / 977501\r",
      "  1% [.                                                                           ]  16384 / 977501\r",
      "  2% [.                                                                           ]  24576 / 977501\r",
      "  3% [..                                                                          ]  32768 / 977501\r",
      "  4% [...                                                                         ]  40960 / 977501\r",
      "  5% [...                                                                         ]  49152 / 977501\r",
      "  5% [....                                                                        ]  57344 / 977501\r",
      "  6% [.....                                                                       ]  65536 / 977501\r",
      "  7% [.....                                                                       ]  73728 / 977501\r",
      "  8% [......                                                                      ]  81920 / 977501\r",
      "  9% [.......                                                                     ]  90112 / 977501\r",
      " 10% [.......                                                                     ]  98304 / 977501\r",
      " 10% [........                                                                    ] 106496 / 977501\r",
      " 11% [........                                                                    ] 114688 / 977501\r",
      " 12% [.........                                                                   ] 122880 / 977501\r",
      " 13% [..........                                                                  ] 131072 / 977501\r",
      " 14% [..........                                                                  ] 139264 / 977501\r",
      " 15% [...........                                                                 ] 147456 / 977501\r",
      " 15% [............                                                                ] 155648 / 977501\r",
      " 16% [............                                                                ] 163840 / 977501\r",
      " 17% [.............                                                               ] 172032 / 977501\r",
      " 18% [..............                                                              ] 180224 / 977501\r",
      " 19% [..............                                                              ] 188416 / 977501\r",
      " 20% [...............                                                             ] 196608 / 977501\r",
      " 20% [...............                                                             ] 204800 / 977501\r",
      " 21% [................                                                            ] 212992 / 977501\r",
      " 22% [.................                                                           ] 221184 / 977501\r",
      " 23% [.................                                                           ] 229376 / 977501\r",
      " 24% [..................                                                          ] 237568 / 977501\r",
      " 25% [...................                                                         ] 245760 / 977501\r",
      " 25% [...................                                                         ] 253952 / 977501\r",
      " 26% [....................                                                        ] 262144 / 977501\r",
      " 27% [.....................                                                       ] 270336 / 977501\r",
      " 28% [.....................                                                       ] 278528 / 977501\r",
      " 29% [......................                                                      ] 286720 / 977501\r",
      " 30% [......................                                                      ] 294912 / 977501\r",
      " 31% [.......................                                                     ] 303104 / 977501\r",
      " 31% [........................                                                    ] 311296 / 977501\r",
      " 32% [........................                                                    ] 319488 / 977501\r",
      " 33% [.........................                                                   ] 327680 / 977501\r",
      " 34% [..........................                                                  ] 335872 / 977501\r",
      " 35% [..........................                                                  ] 344064 / 977501\r",
      " 36% [...........................                                                 ] 352256 / 977501\r",
      " 36% [............................                                                ] 360448 / 977501\r",
      " 37% [............................                                                ] 368640 / 977501\r",
      " 38% [.............................                                               ] 376832 / 977501\r",
      " 39% [.............................                                               ] 385024 / 977501\r",
      " 40% [..............................                                              ] 393216 / 977501\r",
      " 41% [...............................                                             ] 401408 / 977501\r",
      " 41% [...............................                                             ] 409600 / 977501\r",
      " 42% [................................                                            ] 417792 / 977501\r",
      " 43% [.................................                                           ] 425984 / 977501\r",
      " 44% [.................................                                           ] 434176 / 977501\r",
      " 45% [..................................                                          ] 442368 / 977501\r",
      " 46% [...................................                                         ] 450560 / 977501\r",
      " 46% [...................................                                         ] 458752 / 977501\r",
      " 47% [....................................                                        ] 466944 / 977501\r",
      " 48% [....................................                                        ] 475136 / 977501\r",
      " 49% [.....................................                                       ] 483328 / 977501\r",
      " 50% [......................................                                      ] 491520 / 977501\r",
      " 51% [......................................                                      ] 499712 / 977501\r",
      " 51% [.......................................                                     ] 507904 / 977501\r",
      " 52% [........................................                                    ] 516096 / 977501\r",
      " 53% [........................................                                    ] 524288 / 977501\r",
      " 54% [.........................................                                   ] 532480 / 977501\r",
      " 55% [..........................................                                  ] 540672 / 977501\r",
      " 56% [..........................................                                  ] 548864 / 977501\r",
      " 56% [...........................................                                 ] 557056 / 977501\r",
      " 57% [...........................................                                 ] 565248 / 977501\r",
      " 58% [............................................                                ] 573440 / 977501\r",
      " 59% [.............................................                               ] 581632 / 977501\r",
      " 60% [.............................................                               ] 589824 / 977501\r",
      " 61% [..............................................                              ] 598016 / 977501\r",
      " 62% [...............................................                             ] 606208 / 977501\r",
      " 62% [...............................................                             ] 614400 / 977501\r",
      " 63% [................................................                            ] 622592 / 977501\r",
      " 64% [.................................................                           ] 630784 / 977501\r",
      " 65% [.................................................                           ] 638976 / 977501\r",
      " 66% [..................................................                          ] 647168 / 977501\r",
      " 67% [..................................................                          ] 655360 / 977501\r",
      " 67% [...................................................                         ] 663552 / 977501\r",
      " 68% [....................................................                        ] 671744 / 977501\r",
      " 69% [....................................................                        ] 679936 / 977501\r",
      " 70% [.....................................................                       ] 688128 / 977501\r",
      " 71% [......................................................                      ] 696320 / 977501\r",
      " 72% [......................................................                      ] 704512 / 977501\r",
      " 72% [.......................................................                     ] 712704 / 977501\r",
      " 73% [........................................................                    ] 720896 / 977501\r",
      " 74% [........................................................                    ] 729088 / 977501\r",
      " 75% [.........................................................                   ] 737280 / 977501\r",
      " 76% [.........................................................                   ] 745472 / 977501\r",
      " 77% [..........................................................                  ] 753664 / 977501\r",
      " 77% [...........................................................                 ] 761856 / 977501\r",
      " 78% [...........................................................                 ] 770048 / 977501\r",
      " 79% [............................................................                ] 778240 / 977501\r",
      " 80% [.............................................................               ] 786432 / 977501\r",
      " 81% [.............................................................               ] 794624 / 977501\r",
      " 82% [..............................................................              ] 802816 / 977501\r",
      " 82% [...............................................................             ] 811008 / 977501\r",
      " 83% [...............................................................             ] 819200 / 977501\r",
      " 84% [................................................................            ] 827392 / 977501\r",
      " 85% [................................................................            ] 835584 / 977501\r",
      " 86% [.................................................................           ] 843776 / 977501\r",
      " 87% [..................................................................          ] 851968 / 977501\r",
      " 87% [..................................................................          ] 860160 / 977501\r",
      " 88% [...................................................................         ] 868352 / 977501\r",
      " 89% [....................................................................        ] 876544 / 977501\r",
      " 90% [....................................................................        ] 884736 / 977501\r",
      " 91% [.....................................................................       ] 892928 / 977501\r",
      " 92% [......................................................................      ] 901120 / 977501\r",
      " 93% [......................................................................      ] 909312 / 977501\r",
      " 93% [.......................................................................     ] 917504 / 977501"
     ]
    },
    {
     "name": "stdout",
     "output_type": "stream",
     "text": [
      "\r",
      " 94% [.......................................................................     ] 925696 / 977501\r",
      " 95% [........................................................................    ] 933888 / 977501\r",
      " 96% [.........................................................................   ] 942080 / 977501\r",
      " 97% [.........................................................................   ] 950272 / 977501\r",
      " 98% [..........................................................................  ] 958464 / 977501\r",
      " 98% [........................................................................... ] 966656 / 977501\r",
      " 99% [........................................................................... ] 974848 / 977501\r",
      "100% [............................................................................] 977501 / 977501WA_Fn-UseC_-Telco-Customer-Churn (5).csv\n"
     ]
    }
   ],
   "source": [
    "import wget\n",
    "data = wget.download(filename)\n",
    "print(data)"
   ]
  },
  {
   "cell_type": "code",
   "execution_count": 4,
   "id": "728d8f59",
   "metadata": {},
   "outputs": [
    {
     "data": {
      "text/html": [
       "<div>\n",
       "<style scoped>\n",
       "    .dataframe tbody tr th:only-of-type {\n",
       "        vertical-align: middle;\n",
       "    }\n",
       "\n",
       "    .dataframe tbody tr th {\n",
       "        vertical-align: top;\n",
       "    }\n",
       "\n",
       "    .dataframe thead th {\n",
       "        text-align: right;\n",
       "    }\n",
       "</style>\n",
       "<table border=\"1\" class=\"dataframe\">\n",
       "  <thead>\n",
       "    <tr style=\"text-align: right;\">\n",
       "      <th></th>\n",
       "      <th>0</th>\n",
       "      <th>1</th>\n",
       "      <th>2</th>\n",
       "      <th>3</th>\n",
       "      <th>4</th>\n",
       "    </tr>\n",
       "  </thead>\n",
       "  <tbody>\n",
       "    <tr>\n",
       "      <th>customerID</th>\n",
       "      <td>7590-VHVEG</td>\n",
       "      <td>5575-GNVDE</td>\n",
       "      <td>3668-QPYBK</td>\n",
       "      <td>7795-CFOCW</td>\n",
       "      <td>9237-HQITU</td>\n",
       "    </tr>\n",
       "    <tr>\n",
       "      <th>gender</th>\n",
       "      <td>Female</td>\n",
       "      <td>Male</td>\n",
       "      <td>Male</td>\n",
       "      <td>Male</td>\n",
       "      <td>Female</td>\n",
       "    </tr>\n",
       "    <tr>\n",
       "      <th>SeniorCitizen</th>\n",
       "      <td>0</td>\n",
       "      <td>0</td>\n",
       "      <td>0</td>\n",
       "      <td>0</td>\n",
       "      <td>0</td>\n",
       "    </tr>\n",
       "    <tr>\n",
       "      <th>Partner</th>\n",
       "      <td>Yes</td>\n",
       "      <td>No</td>\n",
       "      <td>No</td>\n",
       "      <td>No</td>\n",
       "      <td>No</td>\n",
       "    </tr>\n",
       "    <tr>\n",
       "      <th>Dependents</th>\n",
       "      <td>No</td>\n",
       "      <td>No</td>\n",
       "      <td>No</td>\n",
       "      <td>No</td>\n",
       "      <td>No</td>\n",
       "    </tr>\n",
       "    <tr>\n",
       "      <th>tenure</th>\n",
       "      <td>1</td>\n",
       "      <td>34</td>\n",
       "      <td>2</td>\n",
       "      <td>45</td>\n",
       "      <td>2</td>\n",
       "    </tr>\n",
       "    <tr>\n",
       "      <th>PhoneService</th>\n",
       "      <td>No</td>\n",
       "      <td>Yes</td>\n",
       "      <td>Yes</td>\n",
       "      <td>No</td>\n",
       "      <td>Yes</td>\n",
       "    </tr>\n",
       "    <tr>\n",
       "      <th>MultipleLines</th>\n",
       "      <td>No phone service</td>\n",
       "      <td>No</td>\n",
       "      <td>No</td>\n",
       "      <td>No phone service</td>\n",
       "      <td>No</td>\n",
       "    </tr>\n",
       "    <tr>\n",
       "      <th>InternetService</th>\n",
       "      <td>DSL</td>\n",
       "      <td>DSL</td>\n",
       "      <td>DSL</td>\n",
       "      <td>DSL</td>\n",
       "      <td>Fiber optic</td>\n",
       "    </tr>\n",
       "    <tr>\n",
       "      <th>OnlineSecurity</th>\n",
       "      <td>No</td>\n",
       "      <td>Yes</td>\n",
       "      <td>Yes</td>\n",
       "      <td>Yes</td>\n",
       "      <td>No</td>\n",
       "    </tr>\n",
       "    <tr>\n",
       "      <th>OnlineBackup</th>\n",
       "      <td>Yes</td>\n",
       "      <td>No</td>\n",
       "      <td>Yes</td>\n",
       "      <td>No</td>\n",
       "      <td>No</td>\n",
       "    </tr>\n",
       "    <tr>\n",
       "      <th>DeviceProtection</th>\n",
       "      <td>No</td>\n",
       "      <td>Yes</td>\n",
       "      <td>No</td>\n",
       "      <td>Yes</td>\n",
       "      <td>No</td>\n",
       "    </tr>\n",
       "    <tr>\n",
       "      <th>TechSupport</th>\n",
       "      <td>No</td>\n",
       "      <td>No</td>\n",
       "      <td>No</td>\n",
       "      <td>Yes</td>\n",
       "      <td>No</td>\n",
       "    </tr>\n",
       "    <tr>\n",
       "      <th>StreamingTV</th>\n",
       "      <td>No</td>\n",
       "      <td>No</td>\n",
       "      <td>No</td>\n",
       "      <td>No</td>\n",
       "      <td>No</td>\n",
       "    </tr>\n",
       "    <tr>\n",
       "      <th>StreamingMovies</th>\n",
       "      <td>No</td>\n",
       "      <td>No</td>\n",
       "      <td>No</td>\n",
       "      <td>No</td>\n",
       "      <td>No</td>\n",
       "    </tr>\n",
       "    <tr>\n",
       "      <th>Contract</th>\n",
       "      <td>Month-to-month</td>\n",
       "      <td>One year</td>\n",
       "      <td>Month-to-month</td>\n",
       "      <td>One year</td>\n",
       "      <td>Month-to-month</td>\n",
       "    </tr>\n",
       "    <tr>\n",
       "      <th>PaperlessBilling</th>\n",
       "      <td>Yes</td>\n",
       "      <td>No</td>\n",
       "      <td>Yes</td>\n",
       "      <td>No</td>\n",
       "      <td>Yes</td>\n",
       "    </tr>\n",
       "    <tr>\n",
       "      <th>PaymentMethod</th>\n",
       "      <td>Electronic check</td>\n",
       "      <td>Mailed check</td>\n",
       "      <td>Mailed check</td>\n",
       "      <td>Bank transfer (automatic)</td>\n",
       "      <td>Electronic check</td>\n",
       "    </tr>\n",
       "    <tr>\n",
       "      <th>MonthlyCharges</th>\n",
       "      <td>29.85</td>\n",
       "      <td>56.95</td>\n",
       "      <td>53.85</td>\n",
       "      <td>42.3</td>\n",
       "      <td>70.7</td>\n",
       "    </tr>\n",
       "    <tr>\n",
       "      <th>TotalCharges</th>\n",
       "      <td>29.85</td>\n",
       "      <td>1889.5</td>\n",
       "      <td>108.15</td>\n",
       "      <td>1840.75</td>\n",
       "      <td>151.65</td>\n",
       "    </tr>\n",
       "    <tr>\n",
       "      <th>Churn</th>\n",
       "      <td>No</td>\n",
       "      <td>No</td>\n",
       "      <td>Yes</td>\n",
       "      <td>No</td>\n",
       "      <td>Yes</td>\n",
       "    </tr>\n",
       "  </tbody>\n",
       "</table>\n",
       "</div>"
      ],
      "text/plain": [
       "                                 0             1               2  \\\n",
       "customerID              7590-VHVEG    5575-GNVDE      3668-QPYBK   \n",
       "gender                      Female          Male            Male   \n",
       "SeniorCitizen                    0             0               0   \n",
       "Partner                        Yes            No              No   \n",
       "Dependents                      No            No              No   \n",
       "tenure                           1            34               2   \n",
       "PhoneService                    No           Yes             Yes   \n",
       "MultipleLines     No phone service            No              No   \n",
       "InternetService                DSL           DSL             DSL   \n",
       "OnlineSecurity                  No           Yes             Yes   \n",
       "OnlineBackup                   Yes            No             Yes   \n",
       "DeviceProtection                No           Yes              No   \n",
       "TechSupport                     No            No              No   \n",
       "StreamingTV                     No            No              No   \n",
       "StreamingMovies                 No            No              No   \n",
       "Contract            Month-to-month      One year  Month-to-month   \n",
       "PaperlessBilling               Yes            No             Yes   \n",
       "PaymentMethod     Electronic check  Mailed check    Mailed check   \n",
       "MonthlyCharges               29.85         56.95           53.85   \n",
       "TotalCharges                 29.85        1889.5          108.15   \n",
       "Churn                           No            No             Yes   \n",
       "\n",
       "                                          3                 4  \n",
       "customerID                       7795-CFOCW        9237-HQITU  \n",
       "gender                                 Male            Female  \n",
       "SeniorCitizen                             0                 0  \n",
       "Partner                                  No                No  \n",
       "Dependents                               No                No  \n",
       "tenure                                   45                 2  \n",
       "PhoneService                             No               Yes  \n",
       "MultipleLines              No phone service                No  \n",
       "InternetService                         DSL       Fiber optic  \n",
       "OnlineSecurity                          Yes                No  \n",
       "OnlineBackup                             No                No  \n",
       "DeviceProtection                        Yes                No  \n",
       "TechSupport                             Yes                No  \n",
       "StreamingTV                              No                No  \n",
       "StreamingMovies                          No                No  \n",
       "Contract                           One year    Month-to-month  \n",
       "PaperlessBilling                         No               Yes  \n",
       "PaymentMethod     Bank transfer (automatic)  Electronic check  \n",
       "MonthlyCharges                         42.3              70.7  \n",
       "TotalCharges                        1840.75            151.65  \n",
       "Churn                                    No               Yes  "
      ]
     },
     "execution_count": 4,
     "metadata": {},
     "output_type": "execute_result"
    }
   ],
   "source": [
    "df = pd.read_csv(\"WA_Fn-UseC_-Telco-Customer-Churn.csv\")\n",
    "df.head().T"
   ]
  },
  {
   "cell_type": "code",
   "execution_count": 5,
   "id": "dc0eabe2",
   "metadata": {},
   "outputs": [],
   "source": [
    "df.columns = df.columns.str.lower().str.replace(' ', '_')\n",
    "\n",
    "categorical_columns = list(df.dtypes[df.dtypes == 'object'].index)\n",
    "\n",
    "for c in categorical_columns:\n",
    "    df[c] = df[c].str.lower().str.replace(' ', '_')"
   ]
  },
  {
   "cell_type": "code",
   "execution_count": 6,
   "id": "cbb07125",
   "metadata": {
    "scrolled": true
   },
   "outputs": [
    {
     "data": {
      "text/html": [
       "<div>\n",
       "<style scoped>\n",
       "    .dataframe tbody tr th:only-of-type {\n",
       "        vertical-align: middle;\n",
       "    }\n",
       "\n",
       "    .dataframe tbody tr th {\n",
       "        vertical-align: top;\n",
       "    }\n",
       "\n",
       "    .dataframe thead th {\n",
       "        text-align: right;\n",
       "    }\n",
       "</style>\n",
       "<table border=\"1\" class=\"dataframe\">\n",
       "  <thead>\n",
       "    <tr style=\"text-align: right;\">\n",
       "      <th></th>\n",
       "      <th>0</th>\n",
       "      <th>1</th>\n",
       "      <th>2</th>\n",
       "      <th>3</th>\n",
       "      <th>4</th>\n",
       "    </tr>\n",
       "  </thead>\n",
       "  <tbody>\n",
       "    <tr>\n",
       "      <th>customerid</th>\n",
       "      <td>7590-vhveg</td>\n",
       "      <td>5575-gnvde</td>\n",
       "      <td>3668-qpybk</td>\n",
       "      <td>7795-cfocw</td>\n",
       "      <td>9237-hqitu</td>\n",
       "    </tr>\n",
       "    <tr>\n",
       "      <th>gender</th>\n",
       "      <td>female</td>\n",
       "      <td>male</td>\n",
       "      <td>male</td>\n",
       "      <td>male</td>\n",
       "      <td>female</td>\n",
       "    </tr>\n",
       "    <tr>\n",
       "      <th>seniorcitizen</th>\n",
       "      <td>0</td>\n",
       "      <td>0</td>\n",
       "      <td>0</td>\n",
       "      <td>0</td>\n",
       "      <td>0</td>\n",
       "    </tr>\n",
       "    <tr>\n",
       "      <th>partner</th>\n",
       "      <td>yes</td>\n",
       "      <td>no</td>\n",
       "      <td>no</td>\n",
       "      <td>no</td>\n",
       "      <td>no</td>\n",
       "    </tr>\n",
       "    <tr>\n",
       "      <th>dependents</th>\n",
       "      <td>no</td>\n",
       "      <td>no</td>\n",
       "      <td>no</td>\n",
       "      <td>no</td>\n",
       "      <td>no</td>\n",
       "    </tr>\n",
       "    <tr>\n",
       "      <th>tenure</th>\n",
       "      <td>1</td>\n",
       "      <td>34</td>\n",
       "      <td>2</td>\n",
       "      <td>45</td>\n",
       "      <td>2</td>\n",
       "    </tr>\n",
       "    <tr>\n",
       "      <th>phoneservice</th>\n",
       "      <td>no</td>\n",
       "      <td>yes</td>\n",
       "      <td>yes</td>\n",
       "      <td>no</td>\n",
       "      <td>yes</td>\n",
       "    </tr>\n",
       "    <tr>\n",
       "      <th>multiplelines</th>\n",
       "      <td>no_phone_service</td>\n",
       "      <td>no</td>\n",
       "      <td>no</td>\n",
       "      <td>no_phone_service</td>\n",
       "      <td>no</td>\n",
       "    </tr>\n",
       "    <tr>\n",
       "      <th>internetservice</th>\n",
       "      <td>dsl</td>\n",
       "      <td>dsl</td>\n",
       "      <td>dsl</td>\n",
       "      <td>dsl</td>\n",
       "      <td>fiber_optic</td>\n",
       "    </tr>\n",
       "    <tr>\n",
       "      <th>onlinesecurity</th>\n",
       "      <td>no</td>\n",
       "      <td>yes</td>\n",
       "      <td>yes</td>\n",
       "      <td>yes</td>\n",
       "      <td>no</td>\n",
       "    </tr>\n",
       "    <tr>\n",
       "      <th>onlinebackup</th>\n",
       "      <td>yes</td>\n",
       "      <td>no</td>\n",
       "      <td>yes</td>\n",
       "      <td>no</td>\n",
       "      <td>no</td>\n",
       "    </tr>\n",
       "    <tr>\n",
       "      <th>deviceprotection</th>\n",
       "      <td>no</td>\n",
       "      <td>yes</td>\n",
       "      <td>no</td>\n",
       "      <td>yes</td>\n",
       "      <td>no</td>\n",
       "    </tr>\n",
       "    <tr>\n",
       "      <th>techsupport</th>\n",
       "      <td>no</td>\n",
       "      <td>no</td>\n",
       "      <td>no</td>\n",
       "      <td>yes</td>\n",
       "      <td>no</td>\n",
       "    </tr>\n",
       "    <tr>\n",
       "      <th>streamingtv</th>\n",
       "      <td>no</td>\n",
       "      <td>no</td>\n",
       "      <td>no</td>\n",
       "      <td>no</td>\n",
       "      <td>no</td>\n",
       "    </tr>\n",
       "    <tr>\n",
       "      <th>streamingmovies</th>\n",
       "      <td>no</td>\n",
       "      <td>no</td>\n",
       "      <td>no</td>\n",
       "      <td>no</td>\n",
       "      <td>no</td>\n",
       "    </tr>\n",
       "    <tr>\n",
       "      <th>contract</th>\n",
       "      <td>month-to-month</td>\n",
       "      <td>one_year</td>\n",
       "      <td>month-to-month</td>\n",
       "      <td>one_year</td>\n",
       "      <td>month-to-month</td>\n",
       "    </tr>\n",
       "    <tr>\n",
       "      <th>paperlessbilling</th>\n",
       "      <td>yes</td>\n",
       "      <td>no</td>\n",
       "      <td>yes</td>\n",
       "      <td>no</td>\n",
       "      <td>yes</td>\n",
       "    </tr>\n",
       "    <tr>\n",
       "      <th>paymentmethod</th>\n",
       "      <td>electronic_check</td>\n",
       "      <td>mailed_check</td>\n",
       "      <td>mailed_check</td>\n",
       "      <td>bank_transfer_(automatic)</td>\n",
       "      <td>electronic_check</td>\n",
       "    </tr>\n",
       "    <tr>\n",
       "      <th>monthlycharges</th>\n",
       "      <td>29.85</td>\n",
       "      <td>56.95</td>\n",
       "      <td>53.85</td>\n",
       "      <td>42.3</td>\n",
       "      <td>70.7</td>\n",
       "    </tr>\n",
       "    <tr>\n",
       "      <th>totalcharges</th>\n",
       "      <td>29.85</td>\n",
       "      <td>1889.5</td>\n",
       "      <td>108.15</td>\n",
       "      <td>1840.75</td>\n",
       "      <td>151.65</td>\n",
       "    </tr>\n",
       "    <tr>\n",
       "      <th>churn</th>\n",
       "      <td>no</td>\n",
       "      <td>no</td>\n",
       "      <td>yes</td>\n",
       "      <td>no</td>\n",
       "      <td>yes</td>\n",
       "    </tr>\n",
       "  </tbody>\n",
       "</table>\n",
       "</div>"
      ],
      "text/plain": [
       "                                 0             1               2  \\\n",
       "customerid              7590-vhveg    5575-gnvde      3668-qpybk   \n",
       "gender                      female          male            male   \n",
       "seniorcitizen                    0             0               0   \n",
       "partner                        yes            no              no   \n",
       "dependents                      no            no              no   \n",
       "tenure                           1            34               2   \n",
       "phoneservice                    no           yes             yes   \n",
       "multiplelines     no_phone_service            no              no   \n",
       "internetservice                dsl           dsl             dsl   \n",
       "onlinesecurity                  no           yes             yes   \n",
       "onlinebackup                   yes            no             yes   \n",
       "deviceprotection                no           yes              no   \n",
       "techsupport                     no            no              no   \n",
       "streamingtv                     no            no              no   \n",
       "streamingmovies                 no            no              no   \n",
       "contract            month-to-month      one_year  month-to-month   \n",
       "paperlessbilling               yes            no             yes   \n",
       "paymentmethod     electronic_check  mailed_check    mailed_check   \n",
       "monthlycharges               29.85         56.95           53.85   \n",
       "totalcharges                 29.85        1889.5          108.15   \n",
       "churn                           no            no             yes   \n",
       "\n",
       "                                          3                 4  \n",
       "customerid                       7795-cfocw        9237-hqitu  \n",
       "gender                                 male            female  \n",
       "seniorcitizen                             0                 0  \n",
       "partner                                  no                no  \n",
       "dependents                               no                no  \n",
       "tenure                                   45                 2  \n",
       "phoneservice                             no               yes  \n",
       "multiplelines              no_phone_service                no  \n",
       "internetservice                         dsl       fiber_optic  \n",
       "onlinesecurity                          yes                no  \n",
       "onlinebackup                             no                no  \n",
       "deviceprotection                        yes                no  \n",
       "techsupport                             yes                no  \n",
       "streamingtv                              no                no  \n",
       "streamingmovies                          no                no  \n",
       "contract                           one_year    month-to-month  \n",
       "paperlessbilling                         no               yes  \n",
       "paymentmethod     bank_transfer_(automatic)  electronic_check  \n",
       "monthlycharges                         42.3              70.7  \n",
       "totalcharges                        1840.75            151.65  \n",
       "churn                                    no               yes  "
      ]
     },
     "execution_count": 6,
     "metadata": {},
     "output_type": "execute_result"
    }
   ],
   "source": [
    "df.head().T"
   ]
  },
  {
   "cell_type": "code",
   "execution_count": 7,
   "id": "79d6d976",
   "metadata": {},
   "outputs": [
    {
     "data": {
      "text/plain": [
       "customerid           object\n",
       "gender               object\n",
       "seniorcitizen         int64\n",
       "partner              object\n",
       "dependents           object\n",
       "tenure                int64\n",
       "phoneservice         object\n",
       "multiplelines        object\n",
       "internetservice      object\n",
       "onlinesecurity       object\n",
       "onlinebackup         object\n",
       "deviceprotection     object\n",
       "techsupport          object\n",
       "streamingtv          object\n",
       "streamingmovies      object\n",
       "contract             object\n",
       "paperlessbilling     object\n",
       "paymentmethod        object\n",
       "monthlycharges      float64\n",
       "totalcharges         object\n",
       "churn                object\n",
       "dtype: object"
      ]
     },
     "execution_count": 7,
     "metadata": {},
     "output_type": "execute_result"
    }
   ],
   "source": [
    "df.dtypes"
   ]
  },
  {
   "cell_type": "code",
   "execution_count": 8,
   "id": "a5edc350",
   "metadata": {},
   "outputs": [],
   "source": [
    "tc = pd.to_numeric(df.totalcharges, errors='coerce')"
   ]
  },
  {
   "cell_type": "code",
   "execution_count": 9,
   "id": "1b771f9b",
   "metadata": {},
   "outputs": [
    {
     "data": {
      "text/plain": [
       "11"
      ]
     },
     "execution_count": 9,
     "metadata": {},
     "output_type": "execute_result"
    }
   ],
   "source": [
    "tc.isnull().sum()"
   ]
  },
  {
   "cell_type": "code",
   "execution_count": 10,
   "id": "cfa52824",
   "metadata": {},
   "outputs": [],
   "source": [
    "df.totalcharges = pd.to_numeric(df.totalcharges, errors='coerce')"
   ]
  },
  {
   "cell_type": "code",
   "execution_count": 11,
   "id": "c90e24c5",
   "metadata": {},
   "outputs": [],
   "source": [
    "df.totalcharges = df.totalcharges.fillna(0)"
   ]
  },
  {
   "cell_type": "code",
   "execution_count": 11,
   "id": "4729fb68",
   "metadata": {},
   "outputs": [
    {
     "ename": "KeyboardInterrupt",
     "evalue": "",
     "output_type": "error",
     "traceback": [
      "\u001b[1;31m---------------------------------------------------------------------------\u001b[0m",
      "\u001b[1;31mKeyboardInterrupt\u001b[0m                         Traceback (most recent call last)",
      "\u001b[1;32m~\\AppData\\Local\\Programs\\Python\\Python37\\lib\\site-packages\\IPython\\core\\async_helpers.py\u001b[0m in \u001b[0;36m_pseudo_sync_runner\u001b[1;34m(coro)\u001b[0m\n\u001b[0;32m     76\u001b[0m     \"\"\"\n\u001b[0;32m     77\u001b[0m     \u001b[1;32mtry\u001b[0m\u001b[1;33m:\u001b[0m\u001b[1;33m\u001b[0m\u001b[1;33m\u001b[0m\u001b[0m\n\u001b[1;32m---> 78\u001b[1;33m         \u001b[0mcoro\u001b[0m\u001b[1;33m.\u001b[0m\u001b[0msend\u001b[0m\u001b[1;33m(\u001b[0m\u001b[1;32mNone\u001b[0m\u001b[1;33m)\u001b[0m\u001b[1;33m\u001b[0m\u001b[1;33m\u001b[0m\u001b[0m\n\u001b[0m\u001b[0;32m     79\u001b[0m     \u001b[1;32mexcept\u001b[0m \u001b[0mStopIteration\u001b[0m \u001b[1;32mas\u001b[0m \u001b[0mexc\u001b[0m\u001b[1;33m:\u001b[0m\u001b[1;33m\u001b[0m\u001b[1;33m\u001b[0m\u001b[0m\n\u001b[0;32m     80\u001b[0m         \u001b[1;32mreturn\u001b[0m \u001b[0mexc\u001b[0m\u001b[1;33m.\u001b[0m\u001b[0mvalue\u001b[0m\u001b[1;33m\u001b[0m\u001b[1;33m\u001b[0m\u001b[0m\n",
      "\u001b[1;32m~\\AppData\\Local\\Programs\\Python\\Python37\\lib\\site-packages\\IPython\\core\\interactiveshell.py\u001b[0m in \u001b[0;36mrun_cell_async\u001b[1;34m(self, raw_cell, store_history, silent, shell_futures, transformed_cell, preprocessing_exc_tuple, cell_id)\u001b[0m\n\u001b[0;32m   3179\u001b[0m         \u001b[1;32mif\u001b[0m \u001b[0mstore_history\u001b[0m\u001b[1;33m:\u001b[0m\u001b[1;33m\u001b[0m\u001b[1;33m\u001b[0m\u001b[0m\n\u001b[0;32m   3180\u001b[0m             self.history_manager.store_inputs(self.execution_count,\n\u001b[1;32m-> 3181\u001b[1;33m                                               cell, raw_cell)\n\u001b[0m\u001b[0;32m   3182\u001b[0m         \u001b[1;32mif\u001b[0m \u001b[1;32mnot\u001b[0m \u001b[0msilent\u001b[0m\u001b[1;33m:\u001b[0m\u001b[1;33m\u001b[0m\u001b[1;33m\u001b[0m\u001b[0m\n\u001b[0;32m   3183\u001b[0m             \u001b[0mself\u001b[0m\u001b[1;33m.\u001b[0m\u001b[0mlogger\u001b[0m\u001b[1;33m.\u001b[0m\u001b[0mlog\u001b[0m\u001b[1;33m(\u001b[0m\u001b[0mcell\u001b[0m\u001b[1;33m,\u001b[0m \u001b[0mraw_cell\u001b[0m\u001b[1;33m)\u001b[0m\u001b[1;33m\u001b[0m\u001b[1;33m\u001b[0m\u001b[0m\n",
      "\u001b[1;32m~\\AppData\\Local\\Programs\\Python\\Python37\\lib\\site-packages\\IPython\\core\\history.py\u001b[0m in \u001b[0;36mstore_inputs\u001b[1;34m(self, line_num, source, source_raw)\u001b[0m\n\u001b[0;32m    717\u001b[0m         \u001b[0mself\u001b[0m\u001b[1;33m.\u001b[0m\u001b[0minput_hist_raw\u001b[0m\u001b[1;33m.\u001b[0m\u001b[0mappend\u001b[0m\u001b[1;33m(\u001b[0m\u001b[0msource_raw\u001b[0m\u001b[1;33m)\u001b[0m\u001b[1;33m\u001b[0m\u001b[1;33m\u001b[0m\u001b[0m\n\u001b[0;32m    718\u001b[0m \u001b[1;33m\u001b[0m\u001b[0m\n\u001b[1;32m--> 719\u001b[1;33m         \u001b[1;32mwith\u001b[0m \u001b[0mself\u001b[0m\u001b[1;33m.\u001b[0m\u001b[0mdb_input_cache_lock\u001b[0m\u001b[1;33m:\u001b[0m\u001b[1;33m\u001b[0m\u001b[1;33m\u001b[0m\u001b[0m\n\u001b[0m\u001b[0;32m    720\u001b[0m             \u001b[0mself\u001b[0m\u001b[1;33m.\u001b[0m\u001b[0mdb_input_cache\u001b[0m\u001b[1;33m.\u001b[0m\u001b[0mappend\u001b[0m\u001b[1;33m(\u001b[0m\u001b[1;33m(\u001b[0m\u001b[0mline_num\u001b[0m\u001b[1;33m,\u001b[0m \u001b[0msource\u001b[0m\u001b[1;33m,\u001b[0m \u001b[0msource_raw\u001b[0m\u001b[1;33m)\u001b[0m\u001b[1;33m)\u001b[0m\u001b[1;33m\u001b[0m\u001b[1;33m\u001b[0m\u001b[0m\n\u001b[0;32m    721\u001b[0m             \u001b[1;31m# Trigger to flush cache and write to DB.\u001b[0m\u001b[1;33m\u001b[0m\u001b[1;33m\u001b[0m\u001b[1;33m\u001b[0m\u001b[0m\n",
      "\u001b[1;31mKeyboardInterrupt\u001b[0m: "
     ]
    }
   ],
   "source": [
    "df[tc.isnull()][['customerid', 'totalcharges']]"
   ]
  },
  {
   "cell_type": "code",
   "execution_count": null,
   "id": "4ccc06df",
   "metadata": {},
   "outputs": [],
   "source": [
    "df.churn = (df.churn == 'yes').astype(int)"
   ]
  },
  {
   "cell_type": "code",
   "execution_count": null,
   "id": "4b599c8f",
   "metadata": {},
   "outputs": [],
   "source": [
    "df.churn"
   ]
  },
  {
   "cell_type": "markdown",
   "id": "c060be64",
   "metadata": {},
   "source": [
    "**Setting up Validation Framework**\n",
    "\n",
    "- perform the train/validation/test split with Scikit-Learn"
   ]
  },
  {
   "cell_type": "code",
   "execution_count": null,
   "id": "2abef6cb",
   "metadata": {},
   "outputs": [],
   "source": [
    "from sklearn.model_selection import train_test_split"
   ]
  },
  {
   "cell_type": "code",
   "execution_count": null,
   "id": "34895e47",
   "metadata": {},
   "outputs": [],
   "source": [
    "df_fulltrain, df_test = train_test_split(df, test_size=0.2, random_state=1)"
   ]
  },
  {
   "cell_type": "code",
   "execution_count": null,
   "id": "c6441020",
   "metadata": {},
   "outputs": [],
   "source": [
    "df_train, df_val = train_test_split(df_fulltrain, test_size=0.25, random_state=1)"
   ]
  },
  {
   "cell_type": "code",
   "execution_count": null,
   "id": "53baffe3",
   "metadata": {},
   "outputs": [],
   "source": [
    "len(df_fulltrain), len(df_train), len(df_test), len(df_val)"
   ]
  },
  {
   "cell_type": "code",
   "execution_count": null,
   "id": "e6b5994f",
   "metadata": {},
   "outputs": [],
   "source": [
    " len(df_train) + len(df_test) +len(df_val) , len(df)"
   ]
  },
  {
   "cell_type": "code",
   "execution_count": null,
   "id": "aff4e23a",
   "metadata": {},
   "outputs": [],
   "source": [
    "df_train = df_train.reset_index(drop=True)\n",
    "df_val = df_val.reset_index(drop=True)\n",
    "df_test = df_test.reset_index(drop=True)"
   ]
  },
  {
   "cell_type": "code",
   "execution_count": null,
   "id": "3a06bf4f",
   "metadata": {},
   "outputs": [],
   "source": [
    "y_train = df_train.churn.values\n",
    "y_val = df_val.churn.values\n",
    "y_test = df_test.churn.values"
   ]
  },
  {
   "cell_type": "code",
   "execution_count": null,
   "id": "18415360",
   "metadata": {},
   "outputs": [],
   "source": [
    "del df_train['churn']\n",
    "del df_val['churn']\n",
    "del df_test['churn']"
   ]
  },
  {
   "cell_type": "markdown",
   "id": "711827f2",
   "metadata": {},
   "source": [
    "### EDA\n",
    "- check missing values\n",
    "- Look at the target variable(churn)\n",
    "- Look at the numerical and categorical variables"
   ]
  },
  {
   "cell_type": "code",
   "execution_count": null,
   "id": "15da9655",
   "metadata": {},
   "outputs": [],
   "source": [
    "df_fulltrain = df_fulltrain.reset_index(drop=True)"
   ]
  },
  {
   "cell_type": "code",
   "execution_count": null,
   "id": "7f43b8a3",
   "metadata": {},
   "outputs": [],
   "source": [
    "df_fulltrain"
   ]
  },
  {
   "cell_type": "code",
   "execution_count": null,
   "id": "6806c57a",
   "metadata": {},
   "outputs": [],
   "source": [
    "df_fulltrain.isnull().sum()"
   ]
  },
  {
   "cell_type": "code",
   "execution_count": null,
   "id": "9eeb9baf",
   "metadata": {},
   "outputs": [],
   "source": [
    "df_fulltrain.churn.value_counts()"
   ]
  },
  {
   "cell_type": "code",
   "execution_count": null,
   "id": "e7184a3f",
   "metadata": {},
   "outputs": [],
   "source": [
    "df_fulltrain.churn.value_counts(normalize=True) #Churn rate is 0.269968 or 27% is the rate at which users churn"
   ]
  },
  {
   "cell_type": "code",
   "execution_count": null,
   "id": "9f19dbd7",
   "metadata": {},
   "outputs": [],
   "source": [
    "global_churn_rate  = df_fulltrain.churn.mean() #computing the mean of churn gives us the churn rate\n",
    "round(global_churn_rate, 2)"
   ]
  },
  {
   "cell_type": "code",
   "execution_count": null,
   "id": "ac6c446d",
   "metadata": {},
   "outputs": [],
   "source": [
    "# The mean of the target value in a binary dataset gives us the sum of the 1's over total nos of values"
   ]
  },
  {
   "cell_type": "code",
   "execution_count": null,
   "id": "bd1a9cc5",
   "metadata": {},
   "outputs": [],
   "source": [
    "numerical = ['tenure', 'monthlycharges', 'totalcharges']"
   ]
  },
  {
   "cell_type": "code",
   "execution_count": null,
   "id": "e2e09e55",
   "metadata": {},
   "outputs": [],
   "source": [
    "categorical = ['gender', 'seniorcitizen', 'partner', 'dependents',\n",
    "       'phoneservice', 'multiplelines', 'internetservice',\n",
    "       'onlinesecurity', 'onlinebackup', 'deviceprotection', 'techsupport',\n",
    "       'streamingtv', 'streamingmovies', 'contract', 'paperlessbilling',\n",
    "       'paymentmethod'] #remove customerid, churn and the 3 above numerical variables"
   ]
  },
  {
   "cell_type": "code",
   "execution_count": null,
   "id": "444d4e35",
   "metadata": {},
   "outputs": [],
   "source": [
    "df_fulltrain[categorical].nunique()"
   ]
  },
  {
   "cell_type": "markdown",
   "id": "f735f62b",
   "metadata": {},
   "source": [
    "# Feature Importance: Churn rate and risk ratio\n",
    "#### Feature importance analysis (part of EDA) - identifying which features affect our target variable\n",
    "- Churn rate\n",
    "- Risk ratio\n",
    "- Mutual information"
   ]
  },
  {
   "cell_type": "markdown",
   "id": "a67250a8",
   "metadata": {},
   "source": [
    "### Churn rate\n",
    "- We look at the churn rate within each groups for example males and females"
   ]
  },
  {
   "cell_type": "code",
   "execution_count": null,
   "id": "03442552",
   "metadata": {},
   "outputs": [],
   "source": [
    "churn_female = df_fulltrain[df_fulltrain.gender == 'female'].churn.mean()\n",
    "churn_female"
   ]
  },
  {
   "cell_type": "code",
   "execution_count": null,
   "id": "39503dff",
   "metadata": {},
   "outputs": [],
   "source": [
    "churn_male = df_fulltrain[df_fulltrain.gender == 'male'].churn.mean()\n",
    "churn_male"
   ]
  },
  {
   "cell_type": "code",
   "execution_count": null,
   "id": "fb9a7b9d",
   "metadata": {},
   "outputs": [],
   "source": [
    "global_churn_rate  = df_fulltrain.churn.mean()\n",
    "global_churn_rate"
   ]
  },
  {
   "cell_type": "code",
   "execution_count": null,
   "id": "428efc6a",
   "metadata": {},
   "outputs": [],
   "source": [
    "churn_partner = df_fulltrain[df_fulltrain.partner == 'yes'].churn.mean()\n",
    "churn_partner"
   ]
  },
  {
   "cell_type": "code",
   "execution_count": null,
   "id": "cedd6044",
   "metadata": {},
   "outputs": [],
   "source": [
    "global_churn_rate - churn_partner"
   ]
  },
  {
   "cell_type": "code",
   "execution_count": null,
   "id": "e88cb186",
   "metadata": {},
   "outputs": [],
   "source": [
    "churn_no_partner = df_fulltrain[df_fulltrain.partner == 'no'].churn.mean()\n",
    "churn_no_partner # less likely to churn, global churn is > 0 and more than group churn"
   ]
  },
  {
   "cell_type": "code",
   "execution_count": null,
   "id": "0b5fd152",
   "metadata": {},
   "outputs": [],
   "source": [
    "global_churn_rate - churn_no_partner # More likely to churn because the global churn rate is < 0 & less than the group churn rate"
   ]
  },
  {
   "cell_type": "markdown",
   "id": "713f678b",
   "metadata": {},
   "source": [
    "### Risk Ratio"
   ]
  },
  {
   "cell_type": "code",
   "execution_count": null,
   "id": "c6e4b6b8",
   "metadata": {},
   "outputs": [],
   "source": [
    "churn_no_partner / global_churn_rate # The risk ratio is > 1 and more likely to churn"
   ]
  },
  {
   "cell_type": "code",
   "execution_count": null,
   "id": "7b55df3c",
   "metadata": {},
   "outputs": [],
   "source": [
    "churn_partner / global_churn_rate # Risk ratio is < 1 and less likely to churn"
   ]
  },
  {
   "cell_type": "code",
   "execution_count": null,
   "id": "93145e59",
   "metadata": {},
   "outputs": [],
   "source": [
    "#   SELECT\n",
    "#        gender,\n",
    "#        AVG(churn),\n",
    "#        AVG(churn) - global_churn_rate AS diff,\n",
    "#        AVG(churn) / global_churn_rate AS risk\n",
    "#   FROM\n",
    "#        data\n",
    "#   GROUP BY\n",
    "#        gender "
   ]
  },
  {
   "cell_type": "code",
   "execution_count": null,
   "id": "02754be7",
   "metadata": {},
   "outputs": [],
   "source": [
    "# Coding the above for all variable\n",
    "df_fulltrain.groupby('gender').churn.mean()"
   ]
  },
  {
   "cell_type": "code",
   "execution_count": null,
   "id": "1e90ba10",
   "metadata": {},
   "outputs": [],
   "source": [
    "from IPython.display import display"
   ]
  },
  {
   "cell_type": "code",
   "execution_count": null,
   "id": "0a7c74dc",
   "metadata": {},
   "outputs": [],
   "source": [
    "for c in categorical:\n",
    "    print(c)\n",
    "    df_group = df_fulltrain.groupby(c).churn.agg(['mean', 'count']) #this allows us to manually add the diff &\n",
    "    # risk columns\n",
    "    df_group['diff'] = df_group['mean'] - global_churn_rate\n",
    "    df_group['risk'] = df_group['mean'] / global_churn_rate\n",
    "    display(df_group)\n",
    "    print()\n",
    "    print()"
   ]
  },
  {
   "cell_type": "markdown",
   "id": "1bc369a6",
   "metadata": {},
   "source": [
    "# Feature Importance: Mutual Information   \n",
    "Mutual information - concept from information theory, it tells us how much we can learn \n",
    "one variable if we know the value of another"
   ]
  },
  {
   "cell_type": "code",
   "execution_count": null,
   "id": "b58bf0b1",
   "metadata": {},
   "outputs": [],
   "source": [
    "from sklearn.metrics import mutual_info_score"
   ]
  },
  {
   "cell_type": "code",
   "execution_count": null,
   "id": "969ca833",
   "metadata": {},
   "outputs": [],
   "source": [
    "mutual_info_score(df_fulltrain.churn, df_fulltrain.contract)"
   ]
  },
  {
   "cell_type": "code",
   "execution_count": null,
   "id": "cfc08e7a",
   "metadata": {},
   "outputs": [],
   "source": [
    "mutual_info_score(df_fulltrain.gender, df_fulltrain.churn)"
   ]
  },
  {
   "cell_type": "code",
   "execution_count": null,
   "id": "61c4a45f",
   "metadata": {},
   "outputs": [],
   "source": [
    "mutual_info_score(df_fulltrain.churn, df_fulltrain.partner)"
   ]
  },
  {
   "cell_type": "code",
   "execution_count": null,
   "id": "9a2c834b",
   "metadata": {},
   "outputs": [],
   "source": [
    "def mutual_info_churn_score(series):\n",
    "    return mutual_info_score(series, df_fulltrain.churn)"
   ]
  },
  {
   "cell_type": "code",
   "execution_count": null,
   "id": "b3080e6b",
   "metadata": {},
   "outputs": [],
   "source": [
    "mi = df_fulltrain[categorical].apply(mutual_info_churn_score)\n",
    "mi.sort_values(ascending=False)"
   ]
  },
  {
   "cell_type": "markdown",
   "id": "490d2ff3",
   "metadata": {},
   "source": [
    "# Feature Importance: Correlation. \n",
    "#### How about numerical columns?   \n",
    "    - Correlation Coefficient"
   ]
  },
  {
   "cell_type": "code",
   "execution_count": null,
   "id": "eb6b1f84",
   "metadata": {},
   "outputs": [],
   "source": [
    "df_fulltrain.tenure.max()"
   ]
  },
  {
   "cell_type": "code",
   "execution_count": null,
   "id": "76600842",
   "metadata": {},
   "outputs": [],
   "source": [
    "df_fulltrain[numerical]"
   ]
  },
  {
   "cell_type": "code",
   "execution_count": null,
   "id": "5b40dbc7",
   "metadata": {},
   "outputs": [],
   "source": [
    "df_fulltrain[numerical].corrwith(df_fulltrain.churn)"
   ]
  },
  {
   "cell_type": "code",
   "execution_count": null,
   "id": "0fd372f1",
   "metadata": {},
   "outputs": [],
   "source": [
    "df_fulltrain[df_fulltrain.tenure <= 2].churn.mean()"
   ]
  },
  {
   "cell_type": "code",
   "execution_count": null,
   "id": "32409eaa",
   "metadata": {},
   "outputs": [],
   "source": [
    "df_fulltrain[(df_fulltrain.tenure > 2) & df_fulltrain.tenure <= 12].churn.mean()"
   ]
  },
  {
   "cell_type": "code",
   "execution_count": null,
   "id": "40082a3b",
   "metadata": {},
   "outputs": [],
   "source": [
    "df_fulltrain[df_fulltrain.tenure > 12].churn.mean()"
   ]
  },
  {
   "cell_type": "code",
   "execution_count": null,
   "id": "45ddf448",
   "metadata": {},
   "outputs": [],
   "source": [
    "df_fulltrain[df_fulltrain.monthlycharges <= 20].churn.mean()"
   ]
  },
  {
   "cell_type": "code",
   "execution_count": null,
   "id": "d86d91d6",
   "metadata": {},
   "outputs": [],
   "source": [
    "df_fulltrain[(df_fulltrain.monthlycharges > 20) & df_fulltrain.monthlycharges <= 50].churn.mean()"
   ]
  },
  {
   "cell_type": "code",
   "execution_count": null,
   "id": "a3b1a7e2",
   "metadata": {},
   "outputs": [],
   "source": [
    "df_fulltrain[df_fulltrain.monthlycharges > 50].churn.mean()"
   ]
  },
  {
   "cell_type": "code",
   "execution_count": null,
   "id": "5e250b2c",
   "metadata": {},
   "outputs": [],
   "source": [
    "df_fulltrain[numerical].corrwith(df_fulltrain.churn).abs() # To get the feature importance in order of \n",
    "#the highest important variable irrespective of the direction we use .abs()"
   ]
  },
  {
   "cell_type": "markdown",
   "id": "50ab497a",
   "metadata": {},
   "source": [
    "### One-hot encoding  \n",
    "  \n",
    "- Use Scikit-Learn to encode categorical features"
   ]
  },
  {
   "cell_type": "code",
   "execution_count": null,
   "id": "638368a6",
   "metadata": {},
   "outputs": [],
   "source": [
    "from sklearn.feature_extraction import DictVectorizer"
   ]
  },
  {
   "cell_type": "code",
   "execution_count": null,
   "id": "dc08c754",
   "metadata": {},
   "outputs": [],
   "source": [
    "df_train[['gender', 'contract']].iloc[:100]"
   ]
  },
  {
   "cell_type": "code",
   "execution_count": null,
   "id": "78cacf96",
   "metadata": {},
   "outputs": [],
   "source": [
    "dicts = df_train[['gender', 'contract']].iloc[:100].to_dict(orient='records')"
   ]
  },
  {
   "cell_type": "code",
   "execution_count": null,
   "id": "0b529dcd",
   "metadata": {},
   "outputs": [],
   "source": [
    "dv = DictVectorizer(sparse=False)"
   ]
  },
  {
   "cell_type": "code",
   "execution_count": null,
   "id": "82f4fc73",
   "metadata": {
    "scrolled": true
   },
   "outputs": [],
   "source": [
    "dv.fit(dicts)"
   ]
  },
  {
   "cell_type": "code",
   "execution_count": null,
   "id": "49074e31",
   "metadata": {},
   "outputs": [],
   "source": [
    "dv.get_feature_names_out()"
   ]
  },
  {
   "cell_type": "code",
   "execution_count": null,
   "id": "15bbd392",
   "metadata": {},
   "outputs": [],
   "source": [
    "dv.transform(dicts)"
   ]
  },
  {
   "cell_type": "code",
   "execution_count": null,
   "id": "8f4cffde",
   "metadata": {},
   "outputs": [],
   "source": [
    "train_dicts = df_train[categorical + numerical].to_dict(orient='records')"
   ]
  },
  {
   "cell_type": "code",
   "execution_count": null,
   "id": "42b2faf9",
   "metadata": {},
   "outputs": [],
   "source": [
    "train_dicts[0]"
   ]
  },
  {
   "cell_type": "code",
   "execution_count": null,
   "id": "6f04d735",
   "metadata": {},
   "outputs": [],
   "source": [
    "dv = DictVectorizer(sparse=False)"
   ]
  },
  {
   "cell_type": "code",
   "execution_count": null,
   "id": "02bfaab1",
   "metadata": {},
   "outputs": [],
   "source": [
    "dv.fit(train_dicts)"
   ]
  },
  {
   "cell_type": "code",
   "execution_count": null,
   "id": "68ebc139",
   "metadata": {},
   "outputs": [],
   "source": [
    "dv.transform(train_dicts)"
   ]
  },
  {
   "cell_type": "code",
   "execution_count": null,
   "id": "bb71c3af",
   "metadata": {},
   "outputs": [],
   "source": [
    "dv.get_feature_names_out()"
   ]
  },
  {
   "cell_type": "code",
   "execution_count": null,
   "id": "861e98fd",
   "metadata": {},
   "outputs": [],
   "source": [
    "X_train = dv.fit_transform(train_dicts)"
   ]
  },
  {
   "cell_type": "code",
   "execution_count": null,
   "id": "7be78bbd",
   "metadata": {},
   "outputs": [],
   "source": [
    "val_dicts = df_val[categorical + numerical].to_dict(orient='records')"
   ]
  },
  {
   "cell_type": "code",
   "execution_count": null,
   "id": "d6902734",
   "metadata": {},
   "outputs": [],
   "source": [
    "X_val = dv.transform(val_dicts)"
   ]
  },
  {
   "cell_type": "markdown",
   "id": "55aacfe4",
   "metadata": {},
   "source": [
    "### Logistic Regression  \n",
    "- Binary Classification  \n",
    "- Linear vs Logistic Regression"
   ]
  },
  {
   "cell_type": "code",
   "execution_count": null,
   "id": "f3381980",
   "metadata": {},
   "outputs": [],
   "source": [
    "def sigmoid(z):\n",
    "    return 1 / (1 + np.exp(-z))"
   ]
  },
  {
   "cell_type": "code",
   "execution_count": null,
   "id": "638bf417",
   "metadata": {},
   "outputs": [],
   "source": [
    "z = np.linspace(-7, 7, 51)\n",
    "z"
   ]
  },
  {
   "cell_type": "code",
   "execution_count": null,
   "id": "f35c2234",
   "metadata": {},
   "outputs": [],
   "source": [
    "sigmoid(z)"
   ]
  },
  {
   "cell_type": "code",
   "execution_count": null,
   "id": "bdd1ab3f",
   "metadata": {},
   "outputs": [],
   "source": [
    "plt.plot(z, sigmoid(z))"
   ]
  },
  {
   "cell_type": "code",
   "execution_count": null,
   "id": "833a68bd",
   "metadata": {},
   "outputs": [],
   "source": [
    "def linear_regression(xi):\n",
    "    result = w0\n",
    "    \n",
    "    for i in range(len(w)):\n",
    "        result = result + xi[j] * w[j]\n",
    "        \n",
    "    return result"
   ]
  },
  {
   "cell_type": "code",
   "execution_count": null,
   "id": "e023c59a",
   "metadata": {},
   "outputs": [],
   "source": [
    "def logistic_regression(xi):\n",
    "    score = w0\n",
    "    \n",
    "    for i in range(len(w)):\n",
    "        score = score + xi[j] * w[j]\n",
    "        \n",
    "    result = sigmoid(score)\n",
    "    return result"
   ]
  },
  {
   "cell_type": "markdown",
   "id": "f65ad2a7",
   "metadata": {},
   "source": [
    "### Train Logistic Regression with Scikit-Learn  \n",
    "- Train a model with Scikit-Learn\n",
    "- Apply it to the validation dataset\n",
    "- Calculate the accuracy"
   ]
  },
  {
   "cell_type": "code",
   "execution_count": null,
   "id": "97ec8ae5",
   "metadata": {},
   "outputs": [],
   "source": [
    "from sklearn.linear_model import LogisticRegression"
   ]
  },
  {
   "cell_type": "code",
   "execution_count": null,
   "id": "7a1c9a58",
   "metadata": {},
   "outputs": [],
   "source": [
    "model = LogisticRegression()"
   ]
  },
  {
   "cell_type": "code",
   "execution_count": null,
   "id": "913c08fb",
   "metadata": {},
   "outputs": [],
   "source": [
    "model.fit(X_train, y_train)"
   ]
  },
  {
   "cell_type": "code",
   "execution_count": null,
   "id": "4c544120",
   "metadata": {},
   "outputs": [],
   "source": [
    "model.intercept_[0]"
   ]
  },
  {
   "cell_type": "code",
   "execution_count": null,
   "id": "1184f29a",
   "metadata": {},
   "outputs": [],
   "source": [
    "model.coef_[0].round(2)"
   ]
  },
  {
   "cell_type": "code",
   "execution_count": null,
   "id": "b300dc27",
   "metadata": {},
   "outputs": [],
   "source": [
    "model.predict_proba(X_train)"
   ]
  },
  {
   "cell_type": "code",
   "execution_count": null,
   "id": "f45a69d9",
   "metadata": {},
   "outputs": [],
   "source": [
    "model.predict_proba(X_train)[:, 1]"
   ]
  },
  {
   "cell_type": "code",
   "execution_count": null,
   "id": "5b5e04b7",
   "metadata": {},
   "outputs": [],
   "source": [
    "y_pred = model.predict_proba(X_val)[:, 1]"
   ]
  },
  {
   "cell_type": "code",
   "execution_count": null,
   "id": "5d82f737",
   "metadata": {},
   "outputs": [],
   "source": [
    "churn_decision = (y_pred >= 0.5)"
   ]
  },
  {
   "cell_type": "code",
   "execution_count": null,
   "id": "381776fd",
   "metadata": {},
   "outputs": [],
   "source": [
    "df_val[churn_decision].customerid # These are the people that are most likely to churn\n",
    "# and need to recieve promotional emails"
   ]
  },
  {
   "cell_type": "code",
   "execution_count": null,
   "id": "817cd6ea",
   "metadata": {},
   "outputs": [],
   "source": [
    "# Manual inplementation of accuracy score\n",
    "churn_decision.astype(int)"
   ]
  },
  {
   "cell_type": "code",
   "execution_count": null,
   "id": "4f3264d1",
   "metadata": {},
   "outputs": [],
   "source": [
    "(y_val == churn_decision).mean()"
   ]
  },
  {
   "cell_type": "code",
   "execution_count": null,
   "id": "aa4dbce0",
   "metadata": {},
   "outputs": [],
   "source": [
    "df_pred = pd.DataFrame()\n",
    "df_pred['probability'] = y_pred\n",
    "df_pred['prediction'] = churn_decision.astype(int)\n",
    "df_pred['actual'] = y_val"
   ]
  },
  {
   "cell_type": "code",
   "execution_count": null,
   "id": "674a5db0",
   "metadata": {},
   "outputs": [],
   "source": [
    "df_pred['correct'] = df_pred.prediction == df_pred.actual\n",
    "df_pred"
   ]
  },
  {
   "cell_type": "code",
   "execution_count": null,
   "id": "a2cfe6ab",
   "metadata": {},
   "outputs": [],
   "source": [
    "df_pred.correct.mean()"
   ]
  },
  {
   "cell_type": "markdown",
   "id": "193f9c60",
   "metadata": {},
   "source": [
    "### Model Interpretation  \n",
    "- Look at the coefficients\n",
    "- Train a smaller model with fewer features"
   ]
  },
  {
   "cell_type": "code",
   "execution_count": null,
   "id": "3c4c3349",
   "metadata": {},
   "outputs": [],
   "source": [
    "dv.get_feature_names_out()"
   ]
  },
  {
   "cell_type": "code",
   "execution_count": null,
   "id": "7fac5f2e",
   "metadata": {},
   "outputs": [],
   "source": [
    "model.coef_[0].round(3)"
   ]
  },
  {
   "cell_type": "code",
   "execution_count": null,
   "id": "8bdab64b",
   "metadata": {},
   "outputs": [],
   "source": [
    "a = [1, 2, 3, 4]\n",
    "b = 'abdc'\n",
    "dict(zip(a, b))"
   ]
  },
  {
   "cell_type": "code",
   "execution_count": null,
   "id": "b964158c",
   "metadata": {
    "scrolled": true
   },
   "outputs": [],
   "source": [
    "dict(zip(dv.get_feature_names_out(), model.coef_[0].round(3)))"
   ]
  },
  {
   "cell_type": "code",
   "execution_count": null,
   "id": "14a2f8f0",
   "metadata": {},
   "outputs": [],
   "source": [
    "small = ['contract', 'tenure', 'monthlycharges']"
   ]
  },
  {
   "cell_type": "code",
   "execution_count": null,
   "id": "d6177720",
   "metadata": {},
   "outputs": [],
   "source": [
    "df_train[small].iloc[:10].to_dict(orient='records')"
   ]
  },
  {
   "cell_type": "code",
   "execution_count": null,
   "id": "98602958",
   "metadata": {},
   "outputs": [],
   "source": [
    "dict_train_small = df_train[small].to_dict(orient='records')\n",
    "dict_val_small = df_val[small].to_dict(orient='records')"
   ]
  },
  {
   "cell_type": "code",
   "execution_count": null,
   "id": "d6629f56",
   "metadata": {},
   "outputs": [],
   "source": [
    "dv_small = DictVectorizer(sparse=False)\n",
    "dv_small.fit(dict_train_small)"
   ]
  },
  {
   "cell_type": "code",
   "execution_count": null,
   "id": "c22852d0",
   "metadata": {},
   "outputs": [],
   "source": [
    "dv_small.get_feature_names_out()"
   ]
  },
  {
   "cell_type": "code",
   "execution_count": null,
   "id": "582f0bc6",
   "metadata": {},
   "outputs": [],
   "source": [
    "X_train_small = dv_small.transform(dict_train_small)"
   ]
  },
  {
   "cell_type": "code",
   "execution_count": null,
   "id": "0ab15a61",
   "metadata": {},
   "outputs": [],
   "source": [
    "model_small = LogisticRegression()\n",
    "model_small.fit(X_train_small, y_train)"
   ]
  },
  {
   "cell_type": "code",
   "execution_count": null,
   "id": "f897e77b",
   "metadata": {},
   "outputs": [],
   "source": [
    "w0 = model_small.intercept_[0]\n",
    "w0"
   ]
  },
  {
   "cell_type": "code",
   "execution_count": null,
   "id": "3e6660db",
   "metadata": {},
   "outputs": [],
   "source": [
    "w = model_small.coef_[0]\n",
    "w.round(3)"
   ]
  },
  {
   "cell_type": "code",
   "execution_count": null,
   "id": "cf8ef620",
   "metadata": {},
   "outputs": [],
   "source": [
    "dict(zip(dv_small.get_feature_names_out(), w.round(3)))"
   ]
  },
  {
   "cell_type": "code",
   "execution_count": null,
   "id": "5d941b50",
   "metadata": {},
   "outputs": [],
   "source": [
    "#imaginary customer with monthly charges of 50, tenure 5 and monthly contract\n",
    "sigmoid(-2.47 + 0.97 + 50 * 0.027 + 5 * (-0.036))"
   ]
  },
  {
   "cell_type": "code",
   "execution_count": null,
   "id": "f3d68b52",
   "metadata": {},
   "outputs": [],
   "source": [
    "-2.47 + 0.97 + 50 * 0.027 + 5 * (-0.036)"
   ]
  },
  {
   "cell_type": "code",
   "execution_count": null,
   "id": "d4bfefb1",
   "metadata": {},
   "outputs": [],
   "source": [
    "sigmoid(_) # _ takes the output of the previous cell"
   ]
  },
  {
   "cell_type": "markdown",
   "id": "c8909b43",
   "metadata": {},
   "source": [
    "### Using the model"
   ]
  },
  {
   "cell_type": "code",
   "execution_count": null,
   "id": "14b5fe61",
   "metadata": {},
   "outputs": [],
   "source": [
    "dict_full_train = df_fulltrain[categorical + numerical].to_dict(orient='records')"
   ]
  },
  {
   "cell_type": "code",
   "execution_count": null,
   "id": "ba8b386a",
   "metadata": {},
   "outputs": [],
   "source": [
    "dv = DictVectorizer()\n",
    "X_full_train = dv.fit_transform(dict_full_train)"
   ]
  },
  {
   "cell_type": "code",
   "execution_count": null,
   "id": "88280bfd",
   "metadata": {},
   "outputs": [],
   "source": [
    "y_full_train = df_fulltrain.churn.values"
   ]
  },
  {
   "cell_type": "code",
   "execution_count": null,
   "id": "de1ea17e",
   "metadata": {},
   "outputs": [],
   "source": [
    "model = LogisticRegression()\n",
    "model.fit(X_full_train, y_full_train)"
   ]
  },
  {
   "cell_type": "code",
   "execution_count": null,
   "id": "d840e18b",
   "metadata": {},
   "outputs": [],
   "source": [
    "dict_test = df_test[categorical + numerical].to_dict(orient='records')"
   ]
  },
  {
   "cell_type": "code",
   "execution_count": null,
   "id": "653eb6fd",
   "metadata": {},
   "outputs": [],
   "source": [
    "X_test = dv.transform(dict_test)"
   ]
  },
  {
   "cell_type": "code",
   "execution_count": null,
   "id": "c001575d",
   "metadata": {},
   "outputs": [],
   "source": [
    "y_pred = model.predict_proba(X_test)[:, 1]"
   ]
  },
  {
   "cell_type": "code",
   "execution_count": null,
   "id": "6a6da37a",
   "metadata": {},
   "outputs": [],
   "source": [
    "churn_decision = (y_pred >= 0.5)"
   ]
  },
  {
   "cell_type": "code",
   "execution_count": null,
   "id": "f0db8311",
   "metadata": {},
   "outputs": [],
   "source": [
    "(churn_decision == y_test).mean()"
   ]
  },
  {
   "cell_type": "code",
   "execution_count": null,
   "id": "f9950e07",
   "metadata": {},
   "outputs": [],
   "source": [
    "customer10 = dict_test[-1] #use example dict_test[10]\n",
    "customer10"
   ]
  },
  {
   "cell_type": "code",
   "execution_count": null,
   "id": "22b6faf8",
   "metadata": {},
   "outputs": [],
   "source": [
    "X_small = dv.transform([customer10])"
   ]
  },
  {
   "cell_type": "code",
   "execution_count": null,
   "id": "b8f55319",
   "metadata": {},
   "outputs": [],
   "source": [
    "model.predict_proba(X_small)[0, 1]"
   ]
  },
  {
   "cell_type": "code",
   "execution_count": null,
   "id": "dd54ae18",
   "metadata": {},
   "outputs": [],
   "source": [
    "y_test[-1]"
   ]
  },
  {
   "cell_type": "code",
   "execution_count": null,
   "id": "738559ef",
   "metadata": {},
   "outputs": [],
   "source": []
  },
  {
   "cell_type": "code",
   "execution_count": null,
   "id": "93916ff2",
   "metadata": {},
   "outputs": [],
   "source": []
  }
 ],
 "metadata": {
  "kernelspec": {
   "display_name": "Python 3 (ipykernel)",
   "language": "python",
   "name": "python3"
  },
  "language_info": {
   "codemirror_mode": {
    "name": "ipython",
    "version": 3
   },
   "file_extension": ".py",
   "mimetype": "text/x-python",
   "name": "python",
   "nbconvert_exporter": "python",
   "pygments_lexer": "ipython3",
   "version": "3.7.9"
  }
 },
 "nbformat": 4,
 "nbformat_minor": 5
}
